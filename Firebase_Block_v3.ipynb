{
  "nbformat": 4,
  "nbformat_minor": 0,
  "metadata": {
    "colab": {
      "name": "Firebase Block v3.ipynb",
      "private_outputs": true,
      "provenance": [],
      "collapsed_sections": []
    },
    "kernelspec": {
      "name": "python3",
      "display_name": "Python 3"
    }
  },
  "cells": [
    {
      "cell_type": "code",
      "metadata": {
        "id": "AFhyoxCK2Bmf"
      },
      "source": [
        "!pip install looker_sdk\n",
        "\n",
        "import looker_sdk\n",
        "import os \n",
        "import json "
      ],
      "execution_count": null,
      "outputs": []
    },
    {
      "cell_type": "code",
      "metadata": {
        "id": "3jKM6GfzlgpS",
        "cellView": "form"
      },
      "source": [
        "#@title Configuration\n",
        "\n",
        "model_name = 'firebase' #@param {type:\"string\"}\n",
        "\n",
        "instance_url = 'https://YOURS.looker.com:19999' #@param {type:\"string\"}\n",
        "\n",
        "#Get the following values from your Users page in the Admin panel of your Looker instance > Users > Your user > Edit API keys. If you know your user id, you can visit https://your.looker.com/admin/users/<your_user_id>/edit.\n",
        "client_id =  'yours' #@param {type:\"string\"}\n",
        "client_secret = 'yours' #@param {type:\"string\"}\n",
        "\n",
        "print(\"All environment variables set.\")\n",
        "os.environ[\"LOOKERSDK_BASE_URL\"] = instance_url\n",
        "os.environ[\"LOOKERSDK_CLIENT_ID\"] = client_id\n",
        "os.environ[\"LOOKERSDK_CLIENT_SECRET\"] = client_secret\n",
        "print(os.environ[\"LOOKERSDK_BASE_URL\"])"
      ],
      "execution_count": null,
      "outputs": []
    },
    {
      "cell_type": "code",
      "metadata": {
        "id": "sl7N69UL56vw",
        "cellView": "code"
      },
      "source": [
        "sdk = looker_sdk.init31()\n",
        "my_user = sdk.me()\n",
        "\n",
        "print(\"Hi, \" + my_user.first_name)\n",
        "\n",
        "\n",
        "\n",
        "query = looker_sdk.models40.WriteQuery(\n",
        "   fields=['events.event_name','events__event_params.key','events__event_params__value.type'],\n",
        "    model=model_name,\n",
        "    view='events',\n",
        "   filters={'events.event_date':'7 days'}\n",
        ")\n",
        "# result_format can also be sql\n",
        "event_properties = sdk.run_inline_query(body=query, result_format='json',cache=True)\n",
        "\n",
        "\n",
        "query = looker_sdk.models40.WriteQuery(\n",
        "   fields=['events__user_properties.key','events__user_properties__value.type'],\n",
        "    model=model_name,\n",
        "    view='events',\n",
        "   filters={'events.event_date':'7 days'}\n",
        ")\n",
        "# result_format can also be sql\n",
        "user_properties = sdk.run_inline_query(body=query, result_format='json',cache=True)"
      ],
      "execution_count": null,
      "outputs": []
    },
    {
      "cell_type": "code",
      "metadata": {
        "id": "gAyc4dTnHaMP"
      },
      "source": [
        "import ast\n",
        "print(\"#### User Properties ####\")\n",
        "print(\"view: user_properties_generated {\")\n",
        "print(\"extension: required\")\n",
        "print()\n",
        "\n",
        "for event in ast.literal_eval(user_properties)[1:]: #skip over the first one \n",
        "    key = event['events__user_properties.key']\n",
        "    type = event['events__user_properties__value.type']\n",
        "    \n",
        "    \n",
        "    print(\"dimension: user_properties.\"+key+\" {\")\n",
        "    print(\"type: \"+ type)\n",
        "    print(\"sql:\")\n",
        "    if  type == \"string\":\n",
        "        print(\"   (SELECT value.string_value\")\n",
        "    else:\n",
        "        print(\"   (SELECT value.int_value\")\n",
        "    print(\"       FROM UNNEST(${user_properties})\")\n",
        "    print(   \"       WHERE key = '\"+key+\"') ;;\")\n",
        "    print(\"  }\")\n",
        "    print()\n",
        "print (\"}\")"
      ],
      "execution_count": null,
      "outputs": []
    },
    {
      "cell_type": "code",
      "metadata": {
        "id": "p3lEV0oSDWM3"
      },
      "source": [
        "print(\"#### Event Properties ####\")\n",
        "print(\"view: events_generated {\")\n",
        "print(\"extension: required\")\n",
        "print()\n",
        "for event in ast.literal_eval(event_properties)[1:]: #skip over the first one\n",
        "    event_name = event['events.event_name']\n",
        "    type = event['events__event_params__value.type']\n",
        "    key = event['events__event_params.key']\n",
        "  \n",
        "    print(\"dimension: \"+event_name+\".\"+key+\" {\")\n",
        "    print(\"type: \"+ type)\n",
        "    print(\"sql: CASE WHEN ${event_name} = '\"+event_name+\"' THEN\")\n",
        "    if  type == \"string\":\n",
        "        print(\"   (SELECT value.string_value\")\n",
        "    else:\n",
        "        print(\"   (SELECT value.int_value\")\n",
        "    print(\"       FROM UNNEST(${event_params})\")\n",
        "    print(   \"       WHERE key = '\"+key+\"')\")\n",
        "    print(   \" END ;;\")\n",
        "    print(\"  }\")\n",
        "    print()\n",
        "print(\"}\")\n",
        "\n",
        "  \n"
      ],
      "execution_count": null,
      "outputs": []
    }
  ]
}
